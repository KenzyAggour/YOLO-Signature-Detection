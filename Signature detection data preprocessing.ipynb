{
 "cells": [
  {
   "cell_type": "markdown",
   "metadata": {},
   "source": [
    "The GT in the dataset has the labels as the corner coordinates of the bounding boxes. I will transform them into midpoint + width and height to suit the YOLO algorithm input format."
   ]
  },
  {
   "cell_type": "code",
   "execution_count": 1,
   "metadata": {},
   "outputs": [],
   "source": [
    "import os\n",
    "from PIL import Image"
   ]
  },
  {
   "cell_type": "code",
   "execution_count": 24,
   "metadata": {},
   "outputs": [],
   "source": [
    "def convert_bbox_coordinates(file_path, image_folder):\n",
    "    with open(file_path, 'r') as file:\n",
    "        lines = file.readlines()\n",
    "        \n",
    "    new_lines = []\n",
    "    for line in lines:\n",
    "        x1, y1, x2, y2 = map(float, line.strip().split(','))\n",
    "\n",
    "        image_path = os.path.join(image_folder, os.path.splitext(os.path.basename(file_path))[0] + \".tif\")\n",
    "        with Image.open(image_path) as img:\n",
    "            image_width, image_height = img.size\n",
    "\n",
    "        # Normalize coordinates\n",
    "        normalized_x1 = x1 / image_width\n",
    "        normalized_y1 = y1 / image_height\n",
    "        normalized_x2 = x2 / image_width\n",
    "        normalized_y2 = y2 / image_height\n",
    "\n",
    "        midpoint_x = (normalized_x1 + normalized_x2) / 2\n",
    "        midpoint_y = (normalized_y1 + normalized_y2) / 2\n",
    "\n",
    "        width = abs(normalized_x2 - normalized_x1)\n",
    "        height = abs(normalized_y2 - normalized_y1)\n",
    "\n",
    "        # Append new bounding box coordinates to the list with class number (0)\n",
    "        new_lines.append(f\"0 {midpoint_x} {midpoint_y} {width} {height}\\n\")\n",
    "\n",
    "    return new_lines\n",
    "\n",
    "def process_data(data_folder, image_folder):\n",
    "    for filename in os.listdir(data_folder):\n",
    "        if filename.endswith(\".txt\"):\n",
    "            file_path = os.path.join(data_folder, filename)\n",
    "            new_lines = convert_bbox_coordinates(file_path, image_folder)\n",
    "            # Write new bounding box coordinates back to the file\n",
    "            with open(file_path, 'w') as file:\n",
    "                file.writelines(new_lines)"
   ]
  },
  {
   "cell_type": "code",
   "execution_count": 25,
   "metadata": {},
   "outputs": [
    {
     "name": "stdout",
     "output_type": "stream",
     "text": [
      "Train data processed successfully.\n",
      "Test data processed successfully.\n"
     ]
    }
   ],
   "source": [
    "train_gt_folder_path = r\"D:\\ITIContent\\computer vision\\yolo detection\\SignatureObjectDetection\\TrainGroundTruth\"\n",
    "test_gt_folder_path = r\"D:\\ITIContent\\computer vision\\yolo detection\\SignatureObjectDetection\\TestGroundTruth\"\n",
    "\n",
    "train_image_folder = r\"D:\\ITIContent\\computer vision\\yolo detection\\SignatureObjectDetection\\TrainImages\"\n",
    "test_image_folder = r\"D:\\ITIContent\\computer vision\\yolo detection\\SignatureObjectDetection\\TestImages\"\n",
    "\n",
    "# Process train data\n",
    "process_data(train_gt_folder_path, train_image_folder)\n",
    "print(\"Train data processed successfully.\")\n",
    "\n",
    "# Process test data\n",
    "process_data(test_gt_folder_path, test_image_folder)\n",
    "print(\"Test data processed successfully.\")"
   ]
  },
  {
   "cell_type": "markdown",
   "metadata": {},
   "source": [
    "You will need to divide the dataset into train and test folders and move the 4 folders to their respective folder and rename them \"images\" and \"labels\""
   ]
  },
  {
   "cell_type": "code",
   "execution_count": null,
   "metadata": {},
   "outputs": [],
   "source": []
  }
 ],
 "metadata": {
  "kernelspec": {
   "display_name": "Python 3",
   "language": "python",
   "name": "python3"
  },
  "language_info": {
   "codemirror_mode": {
    "name": "ipython",
    "version": 3
   },
   "file_extension": ".py",
   "mimetype": "text/x-python",
   "name": "python",
   "nbconvert_exporter": "python",
   "pygments_lexer": "ipython3",
   "version": "3.10.5"
  }
 },
 "nbformat": 4,
 "nbformat_minor": 2
}
